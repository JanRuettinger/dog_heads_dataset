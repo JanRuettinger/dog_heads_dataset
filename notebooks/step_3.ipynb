{
 "cells": [
  {
   "cell_type": "code",
   "execution_count": 1,
   "metadata": {},
   "outputs": [],
   "source": [
    "import os, random\n",
    "import numpy as np\n",
    "import matplotlib.pyplot as plt\n",
    "import pandas as pd\n",
    "from pathlib import Path\n",
    "from shutil import copyfile"
   ]
  },
  {
   "cell_type": "code",
   "execution_count": null,
   "metadata": {},
   "outputs": [],
   "source": [
    "cropped_imgs_path = \"/scratch/local/ssd/janhr/data/dogs_cropped/all/\"\n",
    "train_dir_path = \"/scratch/local/ssd/janhr/data/dogs_cropped/train\"\n",
    "val_dir_path = \"/scratch/local/ssd/janhr/data/dogs_cropped/val\"\n",
    "train_validation_ratio = 0.1\n",
    "\n",
    "img_names = os.listdir(cropped_imgs_path)\n",
    "print(f\"{len(img_names)} images were found!\")\n",
    "\n",
    "# Create train and val dir\n",
    "Path(train_dir_path).mkdir(parents=True, exist_ok=True)\n",
    "Path(val_dir_path).mkdir(parents=True, exist_ok=True)"
   ]
  },
  {
   "cell_type": "code",
   "execution_count": null,
   "metadata": {},
   "outputs": [],
   "source": [
    "validation_samples = random.sample(range(1, len(img_names)), int(train_validation_ratio*len(img_names)))\n",
    "\n",
    "for i,v in enumerate(img_names):\n",
    "    src = cropped_imgs_path + v\n",
    "    if i in validation_samples:\n",
    "        dst = val_dir_path + v\n",
    "        copyfile(src, dst)\n",
    "        # move to val folder\n",
    "    else:\n",
    "        # copy to train folder\n",
    "        dst = train_dir_path + v\n",
    "        copyfile(src, dst)"
   ]
  }
 ],
 "metadata": {
  "kernelspec": {
   "display_name": "Python 3",
   "language": "python",
   "name": "python3"
  },
  "language_info": {
   "codemirror_mode": {
    "name": "ipython",
    "version": 3
   },
   "file_extension": ".py",
   "mimetype": "text/x-python",
   "name": "python",
   "nbconvert_exporter": "python",
   "pygments_lexer": "ipython3",
   "version": "3.8.10"
  }
 },
 "nbformat": 4,
 "nbformat_minor": 5
}
