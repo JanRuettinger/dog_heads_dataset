{
 "cells": [
  {
   "cell_type": "markdown",
   "id": "7ecca41d-3ef1-4e45-bd94-0e0f66228875",
   "metadata": {},
   "source": [
    "## What does this notebook do?\n",
    "This notebook crops dog images from the tsinghua dogs dataset according to the provided bounding boxes. You need to adapt the file paths before running cell 3 & 4. Make sure that the paths are valid since there is no exception handling."
   ]
  },
  {
   "cell_type": "code",
   "execution_count": null,
   "id": "ee452c0b-0732-4356-afc6-36c1e06c952b",
   "metadata": {},
   "outputs": [],
   "source": [
    "# Make initial crop \n",
    "import numpy as np\n",
    "from PIL import Image\n",
    "import xml.etree.ElementTree as ET\n",
    "import os"
   ]
  },
  {
   "cell_type": "code",
   "execution_count": null,
   "id": "d7623d34-cced-40ec-813b-102b5dbf0d1e",
   "metadata": {},
   "outputs": [],
   "source": [
    "def bounding_box(root):\n",
    "    objects = root.findall('object')\n",
    "    for o in objects:\n",
    "        bndbox = o.find('headbndbox') # reading bound box\n",
    "        xmin = int(bndbox.find('xmin').text)\n",
    "        ymin = int(bndbox.find('ymin').text)\n",
    "        xmax = int(bndbox.find('xmax').text)\n",
    "        ymax = int(bndbox.find('ymax').text)\n",
    "        \n",
    "    return (xmin,ymin,xmax,ymax)\n",
    "\n",
    "\n",
    "def process_files(file_list, source_path, destination_path, annotation_path):\n",
    "    \n",
    "    for i,f in enumerate(file_list):\n",
    "        try:\n",
    "            img_path = f\n",
    "            a = annotation_path + img_path + \".xml\"\n",
    "            tree = ET.parse(a)\n",
    "            root = tree.getroot()\n",
    "            bbox=bounding_box(root)\n",
    "            im=Image.open(os.path.join(source_path,img_path))\n",
    "            im=im.crop(bbox)\n",
    "            dest_im_path = destination_path + str(i) + \".jpg\"\n",
    "            im.save(dest_im_path)\n",
    "        except Exception as e: \n",
    "            print(e)\n",
    "            \n",
    "        if (i % 5000) == 0:\n",
    "            print(i)"
   ]
  },
  {
   "cell_type": "code",
   "execution_count": null,
   "id": "5a62a3c1-4bcf-4b5f-959f-9d2bac6e670d",
   "metadata": {},
   "outputs": [],
   "source": [
    "# train\n",
    "train_file_list_path = \"/scratch/shared/beegfs/janhr/data/unsup3d_extended/tsinghua_dogs_high_res/TrainAndValList/train.lst\"\n",
    "source_path = \"/scratch/shared/beegfs/janhr/data/unsup3d_extended/tsinghua_dogs_high_res/high-resolution/\"\n",
    "destination_path = \"/scratch/shared/beegfs/janhr/data/unsup3d_extended/tsinghua_dogs_high_res_cropped/train/\"\n",
    "annotation_path = \"/scratch/shared/beegfs/janhr/data/unsup3d_extended/tsinghua_dogs_high_res/High-Annotations/\"\n",
    "\n",
    "with open('/scratch/shared/beegfs/janhr/data/unsup3d_extended/tsinghua_dogs_high_res/TrainAndValList/train.lst') as file:\n",
    "    file_list = list(file)\n",
    "\n",
    "train_file_list = []\n",
    "for i in file_list:\n",
    "    s = i.split(\".//\")[1]\n",
    "    t = s.split(\"\\n\")[0]\n",
    "    train_file_list.append(t)\n",
    "\n",
    "process_files(train_file_list, source_path, destination_path, annotation_path)"
   ]
  },
  {
   "cell_type": "code",
   "execution_count": null,
   "id": "68062d8a-7ce4-44e0-9746-1ae3ade7e4fc",
   "metadata": {},
   "outputs": [],
   "source": [
    "# validation\n",
    "val_file_list_path = \"/scratch/shared/beegfs/janhr/data/unsup3d_extended/tsinghua_dogs_high_res/TrainAndValList/validation.lst\"\n",
    "source_path = \"/scratch/shared/beegfs/janhr/data/unsup3d_extended/tsinghua_dogs_high_res/high-resolution/\"\n",
    "destination_path = \"/scratch/shared/beegfs/janhr/data/unsup3d_extended/tsinghua_dogs_high_res_cropped/val/\"\n",
    "annotation_path = \"/scratch/shared/beegfs/janhr/data/unsup3d_extended/tsinghua_dogs_high_res/High-Annotations/\"\n",
    "\n",
    "with open('/scratch/shared/beegfs/janhr/data/unsup3d_extended/tsinghua_dogs_high_res/TrainAndValList/train.lst') as file:\n",
    "    file_list = list(file)\n",
    "\n",
    "train_file_list = []\n",
    "for i in file_list:\n",
    "    s = i.split(\".//\")[1]\n",
    "    t = s.split(\"\\n\")[0]\n",
    "    train_file_list.append(t)\n",
    "\n",
    "process_files(val_file_list, source_path, destination_path, annotation_path)"
   ]
  }
 ],
 "metadata": {
  "kernelspec": {
   "display_name": "Python 3",
   "language": "python",
   "name": "python3"
  },
  "language_info": {
   "codemirror_mode": {
    "name": "ipython",
    "version": 3
   },
   "file_extension": ".py",
   "mimetype": "text/x-python",
   "name": "python",
   "nbconvert_exporter": "python",
   "pygments_lexer": "ipython3",
   "version": "3.8.10"
  }
 },
 "nbformat": 4,
 "nbformat_minor": 5
}
