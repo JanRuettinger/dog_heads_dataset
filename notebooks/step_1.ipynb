{
 "cells": [
  {
   "cell_type": "markdown",
   "metadata": {},
   "source": [
    "## What does this notebook do?\n",
    "This notebook crops dog images from the tsinghua dogs dataset according to the provided bounding boxes. You need to adapt the file paths before running cell 3 & 4. Make sure that the paths are valid since there is no exception handling."
   ]
  },
  {
   "cell_type": "code",
   "execution_count": 5,
   "metadata": {},
   "outputs": [],
   "source": [
    "# Make initial crop \n",
    "import numpy as np\n",
    "from PIL import Image\n",
    "import xml.etree.ElementTree as ET\n",
    "import os\n",
    "from pathlib import Path"
   ]
  },
  {
   "cell_type": "code",
   "execution_count": 6,
   "metadata": {},
   "outputs": [],
   "source": [
    "train_file_list_path = Path(\"/scratch/local/ssd/janhr/data/tsinghua_dogs_high_res_original/TrainAndValList/train.lst\")\n",
    "val_file_list_path = Path(\"/scratch/local/ssd/janhr/data/tsinghua_dogs_high_res_original/TrainAndValList/validation.lst\")\n",
    "annotation_path = Path(\"/scratch/local/ssd/janhr/data/tsinghua_dogs_high_res_original//High-Annotations/\")\n",
    "source_path = Path(\"/scratch/local/ssd/janhr/data/tsinghua_dogs_high_res_original/high-resolution\")\n",
    "destination_path = Path(\"/scratch/local/ssd/janhr/data/tsinghua_dogs_high_res_cropped/all\")\n",
    "\n",
    "destination_path.mkdir(parents=True, exist_ok=True)"
   ]
  },
  {
   "cell_type": "code",
   "execution_count": 7,
   "metadata": {},
   "outputs": [],
   "source": [
    "def bounding_box(root):\n",
    "    objects = root.findall('object')\n",
    "    for o in objects:\n",
    "        bndbox = o.find('headbndbox') # reading bound box\n",
    "        xmin = int(bndbox.find('xmin').text)\n",
    "        ymin = int(bndbox.find('ymin').text)\n",
    "        xmax = int(bndbox.find('xmax').text)\n",
    "        ymax = int(bndbox.find('ymax').text)\n",
    "        \n",
    "    return (xmin,ymin,xmax,ymax)\n",
    "\n",
    "\n",
    "def process_files(file_list, source_path, destination_path, annotation_path):\n",
    "    \n",
    "    for i,f in enumerate(file_list):\n",
    "        try:\n",
    "            img_name = f.name\n",
    "            parent_folder_name = f.parent.relative_to(f.parent.parent)\n",
    "            a = annotation_path / parent_folder_name / (img_name + \".xml\")\n",
    "            tree = ET.parse(a)\n",
    "            root = tree.getroot()\n",
    "            bbox=bounding_box(root)\n",
    "            im=Image.open(f)\n",
    "            rgb_im = im.convert('RGB')\n",
    "            rgb_im = rgb_im.crop(bbox)\n",
    "            dest_im_path = destination_path / img_name\n",
    "            rgb_im.save(dest_im_path)\n",
    "        except Exception as e: \n",
    "            print(e)\n",
    "            \n",
    "        print(f\"{i}/{len(file_list)}\", end=\"\\r\")"
   ]
  },
  {
   "cell_type": "code",
   "execution_count": 8,
   "metadata": {},
   "outputs": [
    {
     "name": "stdout",
     "output_type": "stream",
     "text": [
      "Found 65228 images.\n",
      "65227/65228\r"
     ]
    }
   ],
   "source": [
    "with open(train_file_list_path) as file:\n",
    "    train_file_list = list(file)\n",
    "\n",
    "train_files = []\n",
    "for i in train_file_list:\n",
    "    s = i.split(\".//\")[1]\n",
    "    t = s.split(\"\\n\")[0]\n",
    "    t = source_path / t\n",
    "    train_files.append(t)\n",
    "    \n",
    "print(f\"Found {len(train_files)} images.\")\n",
    "    \n",
    "process_files(train_files, source_path, destination_path, annotation_path)"
   ]
  },
  {
   "cell_type": "code",
   "execution_count": 9,
   "metadata": {},
   "outputs": [
    {
     "name": "stdout",
     "output_type": "stream",
     "text": [
      "Found 5200 images.\n",
      "5199/5200\r"
     ]
    }
   ],
   "source": [
    "with open(val_file_list_path) as file:\n",
    "    val_file_list = list(file)\n",
    "\n",
    "val_files = []\n",
    "for i in val_file_list:\n",
    "    s = i.split(\".//\")[1]\n",
    "    t = s.split(\"\\n\")[0]\n",
    "    t = Path(t)\n",
    "    t = source_path / t\n",
    "    val_files.append(t)\n",
    "    \n",
    "print(f\"Found {len(val_files)} images.\")\n",
    "    \n",
    "process_files(val_files, source_path, destination_path, annotation_path)"
   ]
  },
  {
   "cell_type": "code",
   "execution_count": null,
   "metadata": {},
   "outputs": [],
   "source": []
  }
 ],
 "metadata": {
  "kernelspec": {
   "display_name": "Python 3",
   "language": "python",
   "name": "python3"
  },
  "language_info": {
   "codemirror_mode": {
    "name": "ipython",
    "version": 3
   },
   "file_extension": ".py",
   "mimetype": "text/x-python",
   "name": "python",
   "nbconvert_exporter": "python",
   "pygments_lexer": "ipython3",
   "version": "3.8.10"
  }
 },
 "nbformat": 4,
 "nbformat_minor": 5
}
